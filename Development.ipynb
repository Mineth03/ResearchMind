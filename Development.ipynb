{
 "cells": [
  {
   "cell_type": "markdown",
   "id": "4c074f68",
   "metadata": {},
   "source": [
    "## Imports and API"
   ]
  },
  {
   "cell_type": "code",
   "execution_count": 246,
   "id": "7aaff64b",
   "metadata": {},
   "outputs": [],
   "source": [
    "# Libraries\n",
    "from langgraph.graph import StateGraph\n",
    "from graphviz import Digraph\n",
    "from typing import TypedDict, List, Any\n",
    "from openai import OpenAI\n",
    "import requests\n",
    "import feedparser\n",
    "from dotenv import load_dotenv\n",
    "import os\n",
    "\n",
    "client = OpenAI()\n",
    "load_dotenv()\n",
    "os.environ[\"OPENAI_API_KEY\"] = os.getenv(\"API_KEY\")"
   ]
  },
  {
   "cell_type": "markdown",
   "id": "c7571fd9",
   "metadata": {},
   "source": [
    "## ArVix search agent"
   ]
  },
  {
   "cell_type": "code",
   "execution_count": 247,
   "id": "0f2779af",
   "metadata": {},
   "outputs": [],
   "source": [
    "def search_arxiv(query, max_results=5):\n",
    "    url = f'http://export.arxiv.org/api/query?search_query={query}&start=0&max_results={max_results}'\n",
    "    feed = feedparser.parse(requests.get(url).text)\n",
    "    \n",
    "    results = []\n",
    "    for entry in feed.entries:\n",
    "        results.append({\n",
    "            'title': entry.title,\n",
    "            'summary': entry.summary,\n",
    "            'link': entry.link\n",
    "        })\n",
    "    return results\n"
   ]
  },
  {
   "cell_type": "markdown",
   "id": "6b934320",
   "metadata": {},
   "source": [
    "## OpenAlex search agent"
   ]
  },
  {
   "cell_type": "code",
   "execution_count": 248,
   "id": "5b35cf0e",
   "metadata": {},
   "outputs": [],
   "source": [
    "def search_openalex(query, max_results=5):\n",
    "    url = f\"https://api.openalex.org/works?search={query}&per-page={max_results}\"\n",
    "    response = requests.get(url)\n",
    "    data = response.json()\n",
    "    \n",
    "    results = []\n",
    "    for item in data.get('results', []):\n",
    "        results.append({\n",
    "            'title': item.get('display_name', 'No Title'),\n",
    "            'summary': item.get('abstract_inverted_index', {}),\n",
    "            'link': item.get('id', 'No Link')\n",
    "        })\n",
    "    return results\n"
   ]
  },
  {
   "cell_type": "code",
   "execution_count": 249,
   "id": "83157985",
   "metadata": {},
   "outputs": [],
   "source": [
    "def merge_results(arxiv_results, openalex_results):\n",
    "    return arxiv_results + openalex_results"
   ]
  },
  {
   "cell_type": "markdown",
   "id": "2f6928a2",
   "metadata": {},
   "source": [
    "## Summerizing agent"
   ]
  },
  {
   "cell_type": "code",
   "execution_count": 250,
   "id": "08d9e246",
   "metadata": {},
   "outputs": [],
   "source": [
    "def summarize_papers(papers):\n",
    "    content = \"\\n\\n\".join([f\"Title: {p['title']}\\nSummary: {p['summary']}\" for p in papers])\n",
    "    prompt = (\n",
    "                \"You are a professional research assistant tasked with analyzing and summarizing academic research papers.\\n\\n\"\n",
    "                \"Carefully review the following research papers and generate a comprehensive general summary that highlights:\\n\"\n",
    "                \"- The most significant opportunities, advancements, or contributions discussed across the papers.\\n\"\n",
    "                \"- The key challenges, limitations, or concerns raised collectively in the research.\\n\"\n",
    "                \"- The most relevant real-world applications, case studies, or practical implications mentioned.\\n\\n\"\n",
    "                \"Write the summary in clear, professional, and concise language suitable for a research-oriented audience.\\n\"\n",
    "                \"Organize the summary in natural, flowing paragraphs grouped by topic — not by individual papers.\\n\"\n",
    "                \"Do not list papers separately and do not invent information not found in the content.\\n\\n\"\n",
    "                \"Here are the research papers for your analysis:\\n\\n\"\n",
    "                f\"{content}\"\n",
    "            )\n",
    "\n",
    "\n",
    "    response = client.chat.completions.create(\n",
    "        model=\"gpt-3.5-turbo\",\n",
    "        messages=[\n",
    "            {\"role\": \"user\", \"content\": prompt}\n",
    "        ]\n",
    "    )\n",
    "    return response.choices[0].message.content"
   ]
  },
  {
   "cell_type": "code",
   "execution_count": 251,
   "id": "988725b0",
   "metadata": {},
   "outputs": [],
   "source": [
    "def summarize_papers_with_prompt(papers, custom_instruction):\n",
    "    content = \"\\n\\n\".join([f\"Title: {p['title']}\\nSummary: {p['summary']}\" for p in papers])\n",
    "    prompt = f\"{custom_instruction}\\n\\nPapers:\\n{content}\"\n",
    "    \n",
    "    response = client.chat.completions.create(\n",
    "        model=\"gpt-3.5-turbo\",\n",
    "        messages=[\n",
    "            {\"role\": \"user\", \"content\": prompt}\n",
    "        ]\n",
    "    )\n",
    "    return response.choices[0].message.content\n"
   ]
  },
  {
   "cell_type": "markdown",
   "id": "2f39ef5c",
   "metadata": {},
   "source": [
    "## Critic Agent"
   ]
  },
  {
   "cell_type": "code",
   "execution_count": 252,
   "id": "e8dee186",
   "metadata": {},
   "outputs": [],
   "source": [
    "def critique_summary(summary_text):\n",
    "    prompt = (\n",
    "                \"You are a critical reviewer of academic research summaries.\\n\\n\"\n",
    "                \"Carefully review the following summarized research papers.\\n\"\n",
    "                \"For each summary, analyze and provide clear feedback on:\\n\"\n",
    "                \"- **Completeness:** Are the main opportunities, key challenges or limitations, and real-world applications addressed as per the original research?\\n\"\n",
    "                \"- **Accuracy:** Does the summary reflect the actual content of the research without exaggeration, omission, or factual errors?\\n\"\n",
    "                \"- **Clarity and Specificity:** Is the summary clear, specific, and free from vague language or assumptions?\\n\"\n",
    "                \"- **Missing Details:** Are there important aspects like examples, case studies, or key findings that are missing and should be included?\\n\\n\"\n",
    "                \"If a summary lacks information, suggest exactly what could be added or improved.\\n\"\n",
    "                \"Your critique should be professional, constructive, and concise.\\n\"\n",
    "                \"Do NOT rewrite the summary — only provide critique and suggestions.\\n\\n\"\n",
    "                \"Summaries to Review:\\n\\n\"\n",
    "                f\"{summary_text}\"\n",
    "            )\n",
    "\n",
    "    response = client.chat.completions.create(\n",
    "        model=\"gpt-3.5-turbo\",\n",
    "        messages=[\n",
    "            {\"role\": \"user\", \"content\": prompt}\n",
    "        ]\n",
    "    )\n",
    "    \n",
    "    critique = response.choices[0].message.content\n",
    "    \n",
    "    if any(keyword in critique.lower() for keyword in [\"missing\", \"improve\", \"bias\", \"error\"]):\n",
    "        return critique, 'needs_rewrite'\n",
    "    else:\n",
    "        return critique, 'approved'\n"
   ]
  },
  {
   "cell_type": "markdown",
   "id": "ee8d2f8b",
   "metadata": {},
   "source": [
    "## Verifier agent"
   ]
  },
  {
   "cell_type": "code",
   "execution_count": 253,
   "id": "4c86e849",
   "metadata": {},
   "outputs": [],
   "source": [
    "def verify_summary(summary_text):\n",
    "    prompt = (\n",
    "        \"Fact-check the following summary. \"\n",
    "        \"Highlight any factual inaccuracies or unsupported claims:\\n\\n\"\n",
    "        f\"{summary_text}\"\n",
    "    )\n",
    "    \n",
    "    response = client.chat.completions.create(\n",
    "        model=\"gpt-3.5-turbo\",\n",
    "        messages=[\n",
    "            {\"role\": \"user\", \"content\": prompt}\n",
    "        ]\n",
    "    )\n",
    "    \n",
    "    return response.choices[0].message.content\n"
   ]
  },
  {
   "cell_type": "code",
   "execution_count": 254,
   "id": "25b558d6",
   "metadata": {},
   "outputs": [],
   "source": [
    "def compose_final_answer(summary, critique, verification):\n",
    "    return f\"Summary:\\n{summary}\\n\\nCritique:\\n{critique}\\n\\nVerification Notes:\\n{verification}\""
   ]
  },
  {
   "cell_type": "code",
   "execution_count": 255,
   "id": "b273c689",
   "metadata": {},
   "outputs": [],
   "source": [
    "# state dictionary structure\n",
    "state = {\n",
    "    'user_query': '',\n",
    "    'arxiv_results': [],\n",
    "    'openalex_results': [],\n",
    "    'merged_results': [],\n",
    "    'summary': '',\n",
    "    'critique': '',\n",
    "    'verification': '',\n",
    "    'final_output': '',\n",
    "    'status': '',\n",
    "    'rewrite_count': 0\n",
    "}"
   ]
  },
  {
   "cell_type": "code",
   "execution_count": 256,
   "id": "93ef8077",
   "metadata": {},
   "outputs": [],
   "source": [
    "class ResearchState(TypedDict):\n",
    "    user_query: str\n",
    "    arxiv_results: List[Any]\n",
    "    openalex_results: List[Any]\n",
    "    merged_results: List[Any]\n",
    "    summary: str\n",
    "    critique: str\n",
    "    verification: str\n",
    "    final_output: str\n",
    "    status: str\n",
    "    rewrite_count: int"
   ]
  },
  {
   "cell_type": "code",
   "execution_count": 257,
   "id": "eda7591b",
   "metadata": {},
   "outputs": [],
   "source": [
    "def search_arxiv_node(state: ResearchState) -> ResearchState:\n",
    "    results = search_arxiv(state['user_query'], max_results=3)\n",
    "    state['arxiv_results'] = results\n",
    "    return state\n",
    "\n",
    "def search_openalex_node(state: ResearchState) -> ResearchState:\n",
    "    results = search_openalex(state['user_query'], max_results=3)\n",
    "    state['openalex_results'] = results\n",
    "    return state\n",
    "\n",
    "def merge_results_node(state):\n",
    "    merged = merge_results(state['arxiv_results'], state['openalex_results'])\n",
    "    state['merged_results'] = merged\n",
    "    return state\n",
    "\n",
    "def summarizer_node(state):\n",
    "    summary = summarize_papers(state['merged_results'])\n",
    "    state['summary'] = summary\n",
    "    return state\n",
    "\n",
    "def critic_node(state: ResearchState) -> ResearchState:\n",
    "    critique, status = critique_summary(state['summary'])\n",
    "    state['critique'] = critique\n",
    "    if state.get('rewrite_count', 0) >= 2:\n",
    "        state['status'] = 'approved'\n",
    "    else:\n",
    "        state['status'] = status\n",
    "    if status == 'needs_rewrite':\n",
    "        state['rewrite_count'] = state.get('rewrite_count', 0) + 1\n",
    "    return state\n",
    "\n",
    "\n",
    "def verifier_node(state):\n",
    "    verification = verify_summary(state['summary'])\n",
    "    state['verification'] = verification\n",
    "    return state\n",
    "\n",
    "def final_composer_node(state):\n",
    "    final = compose_final_answer(state['summary'], state['critique'], state['verification'])\n",
    "    state['final_output'] = final\n",
    "    return state"
   ]
  },
  {
   "cell_type": "code",
   "execution_count": 258,
   "id": "529008f0",
   "metadata": {},
   "outputs": [],
   "source": [
    "class ResearchState(TypedDict):\n",
    "    user_query: str\n",
    "    arxiv_results: List[Any]\n",
    "    openalex_results: List[Any]\n",
    "    merged_results: List[Any]\n",
    "    summary: str\n",
    "    critique: str\n",
    "    verification: str\n",
    "    final_output: str\n",
    "    status: str"
   ]
  },
  {
   "cell_type": "code",
   "execution_count": 259,
   "id": "15b5a5ec",
   "metadata": {},
   "outputs": [],
   "source": [
    "def check_critique_status(state: ResearchState) -> str:\n",
    "    return state['status']"
   ]
  },
  {
   "cell_type": "code",
   "execution_count": 260,
   "id": "9df1d836",
   "metadata": {},
   "outputs": [
    {
     "name": "stdout",
     "output_type": "stream",
     "text": [
      "<langgraph.graph.state.StateGraph object at 0x000002400722AD90>\n"
     ]
    }
   ],
   "source": [
    "graph = StateGraph(ResearchState)\n",
    "\n",
    "graph.add_node('SearchArxiv', search_arxiv_node)\n",
    "graph.add_node('SearchOpenAlex', search_openalex_node)\n",
    "graph.add_node('MergeResults', merge_results_node)\n",
    "graph.add_node('SummarizerAgent', summarizer_node)\n",
    "graph.add_node('CriticAgent', critic_node)\n",
    "graph.add_node('VerifierAgent', verifier_node)\n",
    "graph.add_node('FinalComposer', final_composer_node)\n",
    "\n",
    "# Sequential Start\n",
    "graph.add_edge('__start__', 'SearchArxiv')\n",
    "graph.add_edge('SearchArxiv', 'SearchOpenAlex')\n",
    "graph.add_edge('SearchOpenAlex', 'MergeResults')\n",
    "graph.add_edge('MergeResults', 'SummarizerAgent')\n",
    "graph.add_edge('SummarizerAgent', 'CriticAgent')\n",
    "\n",
    "graph.add_conditional_edges('CriticAgent', check_critique_status, {\n",
    "    'needs_rewrite': 'SummarizerAgent',\n",
    "    'approved': 'VerifierAgent'\n",
    "})\n",
    "\n",
    "graph.add_edge('VerifierAgent', 'FinalComposer')\n",
    "\n",
    "app = graph.compile()\n",
    "print(graph)"
   ]
  },
  {
   "cell_type": "code",
   "execution_count": null,
   "id": "dc3de480",
   "metadata": {},
   "outputs": [
    {
     "name": "stdout",
     "output_type": "stream",
     "text": [
      "Summary:\n",
      "The research papers collectively present significant opportunities and advancements in the integration of Artificial Intelligence (AI) with various fields. The papers explore the application of large-scale generative AI techniques in data storytelling, improving wireless communication technologies with AI, and the implications of AI in various disciplines. The potential of AI to enhance data storytelling through visual and narration generation is highlighted, as well as the benefits of AI in increasing productivity across industries such as banking, marketing, and management. Additionally, the research delves into the challenges and limitations associated with AI, including disruptions in practices, threats to privacy and security, biases, misuse, and misinformation.\n",
      "\n",
      "Moreover, the debate on viewing AI as a collaborator versus a tool is addressed, with concerns raised about the appropriation of credit and the potential exploitative nature of AI-human interactions. The papers stress the need for further research to address ethical concerns, biases in AI training datasets, societal implications, and the optimal combinations of human-AI interactions for various tasks. Real-world applications include the use of generative conversational AI tools like ChatGPT across a wide range of contexts, calling for a multidisciplinary approach to understanding the challenges and opportunities presented by AI technologies. The research also emphasizes the importance of transparency, ethics, and knowledge in AI implementation, urging for a comprehensive examination of the impacts of AI on organizations, societies, and scholarly research.\n",
      "\n",
      "In conclusion, the research papers collectively offer insights into the evolving landscape of AI technologies, highlighting the potential for innovation and transformation while underscoring the need for careful consideration of the ethical, legal, and societal implications of AI integration. The discussions on human-AI collaboration, digital transformation, and generative AI tools contribute to a broader understanding of the challenges, opportunities, and future directions in AI research, practice, and policy.\n",
      "\n",
      "Critique:\n",
      "The summary provides a comprehensive overview of the research papers discussing the opportunities and challenges associated with integrating Artificial Intelligence (AI) in various fields. \n",
      "\n",
      "**Completeness:** The summary adequately addresses the main opportunities, key challenges, and real-world applications of AI as discussed in the original research papers. It covers the potential of AI in enhancing data storytelling, improving wireless communication, and its implications across different disciplines.\n",
      "\n",
      "**Accuracy:** The summary accurately reflects the content of the research papers without exaggeration or factual errors. It includes discussions on challenges like privacy threats, biases, and misinformation associated with AI.\n",
      "\n",
      "**Clarity and Specificity:** The summary is clear and specific in highlighting key points related to AI integration. It avoids vague language and provides a concise overview of the research papers.\n",
      "\n",
      "**Missing Details:** While the summary covers a wide range of topics related to AI, it could benefit from the inclusion of specific examples or case studies to illustrate the applications and implications of AI technologies in different industries. Providing specific findings from the research papers could enhance the clarity and depth of the summary.\n",
      "\n",
      "Overall, the summary effectively captures the essence of the research papers on AI integration, but adding concrete examples or case studies could further enhance its clarity and impact.\n",
      "\n",
      "Verification Notes:\n",
      "This summary accurately represents the content of the research papers. The information provided is supported by the research findings and covers various aspects of AI integration, including its applications in data storytelling, wireless communication technologies, and its implications in different fields. The summary also acknowledges the challenges and limitations associated with AI, such as privacy and security threats, biases, and misinformation. Additionally, it addresses the debate on viewing AI as a collaborator versus a tool, highlighting the need for further research on ethical concerns and human-AI interactions. The real-world applications of AI tools like ChatGPT are also discussed, emphasizing the importance of transparency, ethics, and knowledge in AI implementation. Overall, the summary presents a balanced view of the opportunities and challenges in AI integration.\n"
     ]
    }
   ],
   "source": [
    "initial_state = {\n",
    "    'user_query': \"Latest trends in AI and human-agent collaboration\",\n",
    "    'arxiv_results': [],\n",
    "    'openalex_results': [],\n",
    "    'merged_results': [],\n",
    "    'summary': '',\n",
    "    'critique': '',\n",
    "    'verification': '',\n",
    "    'final_output': '',\n",
    "    'status': ''\n",
    "}\n",
    "\n",
    "# Execute the flow (this runs through all nodes automatically)\n",
    "result = app.invoke(initial_state)\n",
    "\n",
    "# Print the final output\n",
    "print(result['final_output'])"
   ]
  }
 ],
 "metadata": {
  "kernelspec": {
   "display_name": ".venv",
   "language": "python",
   "name": "python3"
  },
  "language_info": {
   "codemirror_mode": {
    "name": "ipython",
    "version": 3
   },
   "file_extension": ".py",
   "mimetype": "text/x-python",
   "name": "python",
   "nbconvert_exporter": "python",
   "pygments_lexer": "ipython3",
   "version": "3.11.1"
  }
 },
 "nbformat": 4,
 "nbformat_minor": 5
}
