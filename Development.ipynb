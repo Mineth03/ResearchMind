{
 "cells": [
  {
   "cell_type": "markdown",
   "id": "4c074f68",
   "metadata": {},
   "source": [
    "## Imports and API"
   ]
  },
  {
   "cell_type": "code",
   "execution_count": 135,
   "id": "7aaff64b",
   "metadata": {},
   "outputs": [],
   "source": [
    "# Libraries\n",
    "from langgraph.graph import StateGraph\n",
    "from graphviz import Digraph\n",
    "from typing import TypedDict, List, Any\n",
    "from openai import OpenAI\n",
    "import requests\n",
    "import feedparser\n",
    "from dotenv import load_dotenv\n",
    "import os\n",
    "\n",
    "client = OpenAI()\n",
    "load_dotenv()\n",
    "os.environ[\"OPENAI_API_KEY\"] = os.getenv(\"API_KEY\")"
   ]
  },
  {
   "cell_type": "markdown",
   "id": "c7571fd9",
   "metadata": {},
   "source": [
    "## ArVix search agent"
   ]
  },
  {
   "cell_type": "code",
   "execution_count": 136,
   "id": "0f2779af",
   "metadata": {},
   "outputs": [],
   "source": [
    "def search_arxiv(query, max_results=5):\n",
    "    url = f'http://export.arxiv.org/api/query?search_query={query}&start=0&max_results={max_results}'\n",
    "    feed = feedparser.parse(requests.get(url).text)\n",
    "    \n",
    "    results = []\n",
    "    for entry in feed.entries:\n",
    "        results.append({\n",
    "            'title': entry.title,\n",
    "            'summary': entry.summary,\n",
    "            'link': entry.link\n",
    "        })\n",
    "    return results\n"
   ]
  },
  {
   "cell_type": "markdown",
   "id": "6b934320",
   "metadata": {},
   "source": [
    "## OpenAlex search agent"
   ]
  },
  {
   "cell_type": "code",
   "execution_count": 137,
   "id": "5b35cf0e",
   "metadata": {},
   "outputs": [],
   "source": [
    "def search_openalex(query, max_results=5):\n",
    "    url = f\"https://api.openalex.org/works?search={query}&per-page={max_results}\"\n",
    "    response = requests.get(url)\n",
    "    data = response.json()\n",
    "    \n",
    "    results = []\n",
    "    for item in data.get('results', []):\n",
    "        results.append({\n",
    "            'title': item.get('display_name', 'No Title'),\n",
    "            'summary': item.get('abstract_inverted_index', {}),\n",
    "            'link': item.get('id', 'No Link')\n",
    "        })\n",
    "    return results\n"
   ]
  },
  {
   "cell_type": "code",
   "execution_count": 138,
   "id": "83157985",
   "metadata": {},
   "outputs": [],
   "source": [
    "def merge_results(arxiv_results, openalex_results):\n",
    "    return arxiv_results + openalex_results"
   ]
  },
  {
   "cell_type": "markdown",
   "id": "2f6928a2",
   "metadata": {},
   "source": [
    "## Summerizing agent"
   ]
  },
  {
   "cell_type": "code",
   "execution_count": null,
   "id": "08d9e246",
   "metadata": {},
   "outputs": [],
   "source": [
    "def summarize_papers(papers):\n",
    "    content = \"\\n\\n\".join([f\"Title: {p['title']}\\nSummary: {p['summary']}\" for p in papers])\n",
    "    prompt = (\n",
    "                \"You are a professional research assistant tasked with critically summarizing academic papers.\\n\\n\"\n",
    "                \"Carefully analyze each of the following research papers.\\n\"\n",
    "                \"For every paper, provide a structured summary that includes:\\n\"\n",
    "                \"- **Main Opportunities:** Clearly state the new possibilities, innovations, or contributions introduced by the research.\\n\"\n",
    "                \"- **Key Challenges or Limitations:** Highlight any obstacles, risks, limitations, or open questions discussed by the authors.\\n\"\n",
    "                \"- **Real-world Applications or Case Studies:** Identify practical applications, industry use cases, or concrete examples provided.\\n\"\n",
    "                \"- **If any of these points are missing in a paper, explicitly write 'Not discussed in the paper.'\\n\\n\"\n",
    "                \"Your summary must be:\\n\"\n",
    "                \"- Professional, neutral, and concise.\\n\"\n",
    "                \"- Comprehensive enough for a research-oriented audience.\\n\"\n",
    "                \"- Avoid assumptions or filler content.\\n\"\n",
    "                \"- Reflect the actual content of the papers — do not invent details.\\n\\n\"\n",
    "                \"Here are the research papers for your analysis:\\n\\n\"\n",
    "                f\"{content}\"\n",
    "            )\n",
    "\n",
    "    response = client.chat.completions.create(\n",
    "        model=\"gpt-3.5-turbo\",\n",
    "        messages=[\n",
    "            {\"role\": \"user\", \"content\": prompt}\n",
    "        ]\n",
    "    )\n",
    "    return response.choices[0].message.content"
   ]
  },
  {
   "cell_type": "code",
   "execution_count": 140,
   "id": "988725b0",
   "metadata": {},
   "outputs": [],
   "source": [
    "def summarize_papers_with_prompt(papers, custom_instruction):\n",
    "    content = \"\\n\\n\".join([f\"Title: {p['title']}\\nSummary: {p['summary']}\" for p in papers])\n",
    "    prompt = f\"{custom_instruction}\\n\\nPapers:\\n{content}\"\n",
    "    \n",
    "    response = client.chat.completions.create(\n",
    "        model=\"gpt-3.5-turbo\",\n",
    "        messages=[\n",
    "            {\"role\": \"user\", \"content\": prompt}\n",
    "        ]\n",
    "    )\n",
    "    return response.choices[0].message.content\n"
   ]
  },
  {
   "cell_type": "markdown",
   "id": "2f39ef5c",
   "metadata": {},
   "source": [
    "## Critic Agent"
   ]
  },
  {
   "cell_type": "code",
   "execution_count": null,
   "id": "e8dee186",
   "metadata": {},
   "outputs": [],
   "source": [
    "def critique_summary(summary_text):\n",
    "    prompt = (\n",
    "                \"You are a critical reviewer of academic research summaries.\\n\\n\"\n",
    "                \"Carefully review the following summarized research papers.\\n\"\n",
    "                \"For each summary, analyze and provide clear feedback on:\\n\"\n",
    "                \"- **Completeness:** Are the main opportunities, key challenges or limitations, and real-world applications addressed as per the original research?\\n\"\n",
    "                \"- **Accuracy:** Does the summary reflect the actual content of the research without exaggeration, omission, or factual errors?\\n\"\n",
    "                \"- **Clarity and Specificity:** Is the summary clear, specific, and free from vague language or assumptions?\\n\"\n",
    "                \"- **Missing Details:** Are there important aspects like examples, case studies, or key findings that are missing and should be included?\\n\\n\"\n",
    "                \"If a summary lacks information, suggest exactly what could be added or improved.\\n\"\n",
    "                \"Your critique should be professional, constructive, and concise.\\n\"\n",
    "                \"Do NOT rewrite the summary — only provide critique and suggestions.\\n\\n\"\n",
    "                \"Summaries to Review:\\n\\n\"\n",
    "                f\"{summary_text}\"\n",
    "            )\n",
    "\n",
    "    response = client.chat.completions.create(\n",
    "        model=\"gpt-3.5-turbo\",\n",
    "        messages=[\n",
    "            {\"role\": \"user\", \"content\": prompt}\n",
    "        ]\n",
    "    )\n",
    "    \n",
    "    critique = response.choices[0].message.content\n",
    "    \n",
    "    if any(keyword in critique.lower() for keyword in [\"missing\", \"improve\", \"bias\", \"error\"]):\n",
    "        return critique, 'needs_rewrite'\n",
    "    else:\n",
    "        return critique, 'approved'\n"
   ]
  },
  {
   "cell_type": "markdown",
   "id": "ee8d2f8b",
   "metadata": {},
   "source": [
    "## Verifier agent"
   ]
  },
  {
   "cell_type": "code",
   "execution_count": 142,
   "id": "4c86e849",
   "metadata": {},
   "outputs": [],
   "source": [
    "def verify_summary(summary_text):\n",
    "    prompt = (\n",
    "        \"Fact-check the following summary. \"\n",
    "        \"Highlight any factual inaccuracies or unsupported claims:\\n\\n\"\n",
    "        f\"{summary_text}\"\n",
    "    )\n",
    "    \n",
    "    response = client.chat.completions.create(\n",
    "        model=\"gpt-3.5-turbo\",\n",
    "        messages=[\n",
    "            {\"role\": \"user\", \"content\": prompt}\n",
    "        ]\n",
    "    )\n",
    "    \n",
    "    return response.choices[0].message.content\n"
   ]
  },
  {
   "cell_type": "code",
   "execution_count": 143,
   "id": "25b558d6",
   "metadata": {},
   "outputs": [],
   "source": [
    "def compose_final_answer(summary, critique, verification):\n",
    "    return f\"Summary:\\n{summary}\\n\\nCritique:\\n{critique}\\n\\nVerification Notes:\\n{verification}\""
   ]
  },
  {
   "cell_type": "code",
   "execution_count": 144,
   "id": "b273c689",
   "metadata": {},
   "outputs": [],
   "source": [
    "# state dictionary structure\n",
    "state = {\n",
    "    'user_query': '',\n",
    "    'arxiv_results': [],\n",
    "    'openalex_results': [],\n",
    "    'merged_results': [],\n",
    "    'summary': '',\n",
    "    'critique': '',\n",
    "    'verification': '',\n",
    "    'final_output': '',\n",
    "    'status': '' \n",
    "}"
   ]
  },
  {
   "cell_type": "code",
   "execution_count": 145,
   "id": "eda7591b",
   "metadata": {},
   "outputs": [],
   "source": [
    "def search_arxiv_node(state):\n",
    "    results = search_arxiv(state['user_query'], max_results=3)\n",
    "    state['arxiv_results'] = results\n",
    "    return state\n",
    "\n",
    "def search_openalex_node(state):\n",
    "    results = search_openalex(state['user_query'], max_results=3)\n",
    "    state['openalex_results'] = results\n",
    "    return state\n",
    "\n",
    "def merge_results_node(state):\n",
    "    merged = merge_results(state['arxiv_results'], state['openalex_results'])\n",
    "    state['merged_results'] = merged\n",
    "    return state\n",
    "\n",
    "def summarizer_node(state):\n",
    "    summary = summarize_papers(state['merged_results'])\n",
    "    state['summary'] = summary\n",
    "    return state\n",
    "\n",
    "def critic_node(state):\n",
    "    critique, status = critique_summary(state['summary'])\n",
    "    state['critique'] = critique\n",
    "    state['status'] = status \n",
    "    return state\n",
    "\n",
    "def verifier_node(state):\n",
    "    verification = verify_summary(state['summary'])\n",
    "    state['verification'] = verification\n",
    "    return state\n",
    "\n",
    "def final_composer_node(state):\n",
    "    final = compose_final_answer(state['summary'], state['critique'], state['verification'])\n",
    "    state['final_output'] = final\n",
    "    return state"
   ]
  },
  {
   "cell_type": "code",
   "execution_count": 146,
   "id": "529008f0",
   "metadata": {},
   "outputs": [],
   "source": [
    "class ResearchState(TypedDict):\n",
    "    user_query: str\n",
    "    arxiv_results: List[Any]\n",
    "    openalex_results: List[Any]\n",
    "    merged_results: List[Any]\n",
    "    summary: str\n",
    "    critique: str\n",
    "    verification: str\n",
    "    final_output: str\n",
    "    status: str"
   ]
  },
  {
   "cell_type": "code",
   "execution_count": 147,
   "id": "15b5a5ec",
   "metadata": {},
   "outputs": [],
   "source": [
    "def check_critique_status(state: ResearchState) -> str:\n",
    "    return state['status']"
   ]
  },
  {
   "cell_type": "code",
   "execution_count": 148,
   "id": "9df1d836",
   "metadata": {},
   "outputs": [
    {
     "data": {
      "image/png": "[encoded data removed]",
      "text/plain": [
       "<langgraph.graph.state.CompiledStateGraph object at 0x00000240044C4810>"
      ]
     },
     "execution_count": 148,
     "metadata": {},
     "output_type": "execute_result"
    }
   ],
   "source": [
    "graph = StateGraph(ResearchState)\n",
    "\n",
    "# Add Nodes\n",
    "graph.add_node('SearchArxiv', search_arxiv_node)\n",
    "graph.add_node('SearchOpenAlex', search_openalex_node)\n",
    "graph.add_node('MergeResults', merge_results_node)\n",
    "graph.add_node('SummarizerAgent', summarizer_node)\n",
    "graph.add_node('CriticAgent', critic_node)\n",
    "graph.add_node('VerifierAgent', verifier_node)\n",
    "graph.add_node('FinalComposer', final_composer_node)\n",
    "\n",
    "# Add Edges\n",
    "graph.add_edge('__start__', 'SearchArxiv')\n",
    "graph.add_edge('__start__', 'SearchOpenAlex')\n",
    "graph.add_edge('SearchArxiv', 'MergeResults')\n",
    "graph.add_edge('SearchOpenAlex', 'MergeResults')\n",
    "graph.add_edge('MergeResults', 'SummarizerAgent')\n",
    "graph.add_edge('SummarizerAgent', 'CriticAgent')\n",
    "\n",
    "# Conditional Edge based on Critic output\n",
    "graph.add_conditional_edges('CriticAgent', check_critique_status, {\n",
    "    'needs_rewrite': 'SummarizerAgent',\n",
    "    'approved': 'VerifierAgent'\n",
    "})\n",
    "\n",
    "graph.add_edge('VerifierAgent', 'FinalComposer')\n",
    "\n",
    "graph.compile()"
   ]
  },
  {
   "cell_type": "code",
   "execution_count": 150,
   "id": "dc3de480",
   "metadata": {},
   "outputs": [
    {
     "name": "stdout",
     "output_type": "stream",
     "text": [
      "Summary:\n",
      "Title: Reflection on Data Storytelling Tools in the Generative AI Era from the Human-AI Collaboration Perspective\n",
      "\n",
      "Main Opportunities:\n",
      "- The research highlights the potential of large-scale generative AI techniques like large language models and text-to-image models to enhance data storytelling through visual and narration generation.\n",
      "- Comparison of collaboration patterns between new and earlier tools reveals evolving approaches like AI-creator + human-reviewer collaborations.\n",
      "- The study identifies benefits of AI techniques and implications for human-AI collaboration, setting the stage for future innovations.\n",
      "\n",
      "Key Challenges or Limitations:\n",
      "- The challenges and limitations of implementing these new AI techniques are not explicitly discussed within the summary.\n",
      "\n",
      "Real-world Applications or Case Studies:\n",
      "- The practical application of the research in data storytelling tools for human-AI collaboration is discussed, but specific real-world use cases are not provided in the summary.\n",
      "\n",
      "Title: On the Combination of AI and Wireless Technologies: 3GPP Standardization Progress\n",
      "\n",
      "Main Opportunities:\n",
      "- This paper presents the progression of using AI to enhance wireless communication technologies and outlines the latest developments in standardization efforts by the Third Generation Partnership Project (3GPP).\n",
      "- It focuses on AI model distributed transfer and AI for Beam Management (BM) in wireless networks, showcasing how industry standards are evolving to incorporate AI advancements.\n",
      "\n",
      "Key Challenges or Limitations:\n",
      "- The summary does not mention any challenges or limitations associated with integrating AI with wireless technologies.\n",
      "\n",
      "Real-world Applications or Case Studies:\n",
      "- Practical implementations of AI in wireless communication advancements, as per the 3GPP standardization progress, are detailed, but specific industry applications or case studies are not outlined.\n",
      "\n",
      "Title: Enough With \"Human-AI Collaboration\"\n",
      "\n",
      "Main Opportunities:\n",
      "- The paper critiques the notion of 'collaboration' between humans and AI, suggesting viewing AI as a tool or instrument rather than a collaborator for a more accurate and fair representation.\n",
      "- It highlights the potential of reframing the interaction with AI systems to better acknowledge human contributions and address exploitative arrangements in AI development.\n",
      "\n",
      "Key Challenges or Limitations:\n",
      "- The challenges or limitations associated with changing the perception of human-AI interaction are emphasized in this paper, pointing out the potential difficulties in shifting away from the 'collaboration' metaphor.\n",
      "\n",
      "Real-world Applications or Case Studies:\n",
      "- The practical implications of redefining the relationship between humans and AI are not explicitly discussed in the summary, and specific real-world applications are not provided.\n",
      "\n",
      "Critique:\n",
      "***Feedback on Summary Reviews:***\n",
      "\n",
      "1. **Reflection on Data Storytelling Tools in the Generative AI Era from the Human-AI Collaboration Perspective:**\n",
      "- Missing key points: The summary lacks details on the specific benefits and implications for human-AI collaboration. It should include examples of how the new AI techniques can enhance data storytelling.\n",
      "- Biases or assumptions: The summary assumes the audience is familiar with the concept of data storytelling and may benefit from a brief explanation or example.\n",
      "- Lack of depth: The summary could provide more clarity on what exactly the evolving collaboration patterns entail and how they differ from traditional approaches.\n",
      "\n",
      "2. **On the Combination of AI and Wireless Technologies: 3GPP Standardization Progress:**\n",
      "- Missing key points: The summary overlooks any potential negative impacts or drawbacks of incorporating AI into wireless technologies, which could provide a more balanced perspective.\n",
      "- Biases or assumptions: The summary assumes readers are aware of the significance of 3GPP standardization in the telecommunications industry and could benefit from a brief explanation.\n",
      "- Lack of examples: Providing a hypothetical scenario or case study could help illustrate how AI is being integrated into wireless communication technologies.\n",
      "\n",
      "3. **Enough With \"Human-AI Collaboration\":**\n",
      "- Missing key points: The summary lacks concrete examples to support the argument against the 'collaboration' metaphor, which could strengthen the paper's stance.\n",
      "- Biases or assumptions: The summary may assume that the audience agrees with the viewpoint that AI should not be considered a collaborator, and acknowledging potential counterarguments could make the paper more robust.\n",
      "- Lack of real-world applications: Including practical examples of how reframing the human-AI interaction has led to tangible improvements in specific industries or projects would enhance the relevance of the paper.\n",
      "\n",
      "Overall, the summaries could benefit from incorporating more specific examples, addressing potential biases or assumptions, and providing a more in-depth exploration of both opportunities and challenges. Additionally, highlighting real-world applications or case studies would make the research findings more relatable and impactful.\n",
      "\n",
      "Verification Notes:\n",
      "Overall, this fact-checking reveals that the summaries provided contain some factual inaccuracies or unsupported claims:\n",
      "\n",
      "1. The first summary on \"Reflection on Data Storytelling Tools in the Generative AI Era\" does not explicitly mention any specific opportunities or benefits of AI techniques for data storytelling. While it discusses the potential of large-scale generative AI techniques, it lacks concrete examples or evidence to support these claims.\n",
      "\n",
      "2. The second summary on \"On the Combination of AI and Wireless Technologies\" also lacks specific examples or real-world applications to support its claims about the progression of AI in wireless communication technologies. Additionally, the absence of mentioned challenges or limitations does not provide a comprehensive view of the topic.\n",
      "\n",
      "3. The final summary on \"Enough With 'Human-AI Collaboration'\" does not provide concrete examples or case studies to illustrate the potential benefits of reframing the interaction with AI systems. It also fails to discuss the practical implications of changing the perception of human-AI interaction. These gaps weaken the overall support for the arguments presented. \n",
      "\n",
      "In conclusion, while the summaries touch upon important topics related to AI and collaboration, they lack sufficient detail, evidence, and real-world examples to fully support their claims.\n"
     ]
    }
   ],
   "source": [
    "# Initialize state with user query\n",
    "state['user_query'] = \"Latest trends in AI and human-agent collaboration\"\n",
    "\n",
    "# Execute nodes manually for testing (or use compiled graph runner)\n",
    "state = search_arxiv_node(state)\n",
    "state = search_openalex_node(state)\n",
    "state = merge_results_node(state)\n",
    "state = summarizer_node(state)\n",
    "state = critic_node(state)\n",
    "\n",
    "# If Critic says 'needs_rewrite', loop\n",
    "if state['status'] == 'needs_rewrite':\n",
    "    state = summarizer_node(state)\n",
    "    state = critic_node(state)\n",
    "\n",
    "state = verifier_node(state)\n",
    "state = final_composer_node(state)\n",
    "\n",
    "print(state['final_output'])"
   ]
  }
 ],
 "metadata": {
  "kernelspec": {
   "display_name": ".venv",
   "language": "python",
   "name": "python3"
  },
  "language_info": {
   "codemirror_mode": {
    "name": "ipython",
    "version": 3
   },
   "file_extension": ".py",
   "mimetype": "text/x-python",
   "name": "python",
   "nbconvert_exporter": "python",
   "pygments_lexer": "ipython3",
   "version": "3.11.1"
  }
 },
 "nbformat": 4,
 "nbformat_minor": 5
}
