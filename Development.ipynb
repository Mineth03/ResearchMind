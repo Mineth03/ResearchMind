{
 "cells": [
  {
   "cell_type": "markdown",
   "id": "4c074f68",
   "metadata": {},
   "source": [
    "## Imports and API"
   ]
  },
  {
   "cell_type": "code",
   "execution_count": 246,
   "id": "7aaff64b",
   "metadata": {},
   "outputs": [],
   "source": [
    "# Libraries\n",
    "from langgraph.graph import StateGraph\n",
    "from graphviz import Digraph\n",
    "from typing import TypedDict, List, Any\n",
    "from openai import OpenAI\n",
    "import requests\n",
    "import feedparser\n",
    "from dotenv import load_dotenv\n",
    "import os\n",
    "\n",
    "client = OpenAI()\n",
    "load_dotenv()\n",
    "os.environ[\"OPENAI_API_KEY\"] = os.getenv(\"API_KEY\")"
   ]
  },
  {
   "cell_type": "markdown",
   "id": "c7571fd9",
   "metadata": {},
   "source": [
    "## ArVix search agent"
   ]
  },
  {
   "cell_type": "code",
   "execution_count": 247,
   "id": "0f2779af",
   "metadata": {},
   "outputs": [],
   "source": [
    "def search_arxiv(query, max_results=5):\n",
    "    url = f'http://export.arxiv.org/api/query?search_query={query}&start=0&max_results={max_results}'\n",
    "    feed = feedparser.parse(requests.get(url).text)\n",
    "    \n",
    "    results = []\n",
    "    for entry in feed.entries:\n",
    "        results.append({\n",
    "            'title': entry.title,\n",
    "            'summary': entry.summary,\n",
    "            'link': entry.link\n",
    "        })\n",
    "    return results\n"
   ]
  },
  {
   "cell_type": "markdown",
   "id": "6b934320",
   "metadata": {},
   "source": [
    "## OpenAlex search agent"
   ]
  },
  {
   "cell_type": "code",
   "execution_count": 248,
   "id": "5b35cf0e",
   "metadata": {},
   "outputs": [],
   "source": [
    "def search_openalex(query, max_results=5):\n",
    "    url = f\"https://api.openalex.org/works?search={query}&per-page={max_results}\"\n",
    "    response = requests.get(url)\n",
    "    data = response.json()\n",
    "    \n",
    "    results = []\n",
    "    for item in data.get('results', []):\n",
    "        results.append({\n",
    "            'title': item.get('display_name', 'No Title'),\n",
    "            'summary': item.get('abstract_inverted_index', {}),\n",
    "            'link': item.get('id', 'No Link')\n",
    "        })\n",
    "    return results\n"
   ]
  },
  {
   "cell_type": "code",
   "execution_count": 249,
   "id": "83157985",
   "metadata": {},
   "outputs": [],
   "source": [
    "def merge_results(arxiv_results, openalex_results):\n",
    "    return arxiv_results + openalex_results"
   ]
  },
  {
   "cell_type": "markdown",
   "id": "2f6928a2",
   "metadata": {},
   "source": [
    "## Summerizing agent"
   ]
  },
  {
   "cell_type": "code",
   "execution_count": 250,
   "id": "08d9e246",
   "metadata": {},
   "outputs": [],
   "source": [
    "def summarize_papers(papers):\n",
    "    content = \"\\n\\n\".join([f\"Title: {p['title']}\\nSummary: {p['summary']}\" for p in papers])\n",
    "    prompt = (\n",
    "                \"You are a professional research assistant tasked with analyzing and summarizing academic research papers.\\n\\n\"\n",
    "                \"Carefully review the following research papers and generate a comprehensive general summary that highlights:\\n\"\n",
    "                \"- The most significant opportunities, advancements, or contributions discussed across the papers.\\n\"\n",
    "                \"- The key challenges, limitations, or concerns raised collectively in the research.\\n\"\n",
    "                \"- The most relevant real-world applications, case studies, or practical implications mentioned.\\n\\n\"\n",
    "                \"Write the summary in clear, professional, and concise language suitable for a research-oriented audience.\\n\"\n",
    "                \"Organize the summary in natural, flowing paragraphs grouped by topic — not by individual papers.\\n\"\n",
    "                \"Do not list papers separately and do not invent information not found in the content.\\n\\n\"\n",
    "                \"Here are the research papers for your analysis:\\n\\n\"\n",
    "                f\"{content}\"\n",
    "            )\n",
    "\n",
    "\n",
    "    response = client.chat.completions.create(\n",
    "        model=\"gpt-3.5-turbo\",\n",
    "        messages=[\n",
    "            {\"role\": \"user\", \"content\": prompt}\n",
    "        ]\n",
    "    )\n",
    "    return response.choices[0].message.content"
   ]
  },
  {
   "cell_type": "code",
   "execution_count": 251,
   "id": "988725b0",
   "metadata": {},
   "outputs": [],
   "source": [
    "def summarize_papers_with_prompt(papers, custom_instruction):\n",
    "    content = \"\\n\\n\".join([f\"Title: {p['title']}\\nSummary: {p['summary']}\" for p in papers])\n",
    "    prompt = f\"{custom_instruction}\\n\\nPapers:\\n{content}\"\n",
    "    \n",
    "    response = client.chat.completions.create(\n",
    "        model=\"gpt-3.5-turbo\",\n",
    "        messages=[\n",
    "            {\"role\": \"user\", \"content\": prompt}\n",
    "        ]\n",
    "    )\n",
    "    return response.choices[0].message.content\n"
   ]
  },
  {
   "cell_type": "markdown",
   "id": "2f39ef5c",
   "metadata": {},
   "source": [
    "## Critic Agent"
   ]
  },
  {
   "cell_type": "code",
   "execution_count": 252,
   "id": "e8dee186",
   "metadata": {},
   "outputs": [],
   "source": [
    "def critique_summary(summary_text):\n",
    "    prompt = (\n",
    "                \"You are a critical reviewer of academic research summaries.\\n\\n\"\n",
    "                \"Carefully review the following summarized research papers.\\n\"\n",
    "                \"For each summary, analyze and provide clear feedback on:\\n\"\n",
    "                \"- **Completeness:** Are the main opportunities, key challenges or limitations, and real-world applications addressed as per the original research?\\n\"\n",
    "                \"- **Accuracy:** Does the summary reflect the actual content of the research without exaggeration, omission, or factual errors?\\n\"\n",
    "                \"- **Clarity and Specificity:** Is the summary clear, specific, and free from vague language or assumptions?\\n\"\n",
    "                \"- **Missing Details:** Are there important aspects like examples, case studies, or key findings that are missing and should be included?\\n\\n\"\n",
    "                \"If a summary lacks information, suggest exactly what could be added or improved.\\n\"\n",
    "                \"Your critique should be professional, constructive, and concise.\\n\"\n",
    "                \"Do NOT rewrite the summary — only provide critique and suggestions.\\n\\n\"\n",
    "                \"Summaries to Review:\\n\\n\"\n",
    "                f\"{summary_text}\"\n",
    "            )\n",
    "\n",
    "    response = client.chat.completions.create(\n",
    "        model=\"gpt-3.5-turbo\",\n",
    "        messages=[\n",
    "            {\"role\": \"user\", \"content\": prompt}\n",
    "        ]\n",
    "    )\n",
    "    \n",
    "    critique = response.choices[0].message.content\n",
    "    \n",
    "    if any(keyword in critique.lower() for keyword in [\"missing\", \"improve\", \"bias\", \"error\"]):\n",
    "        return critique, 'needs_rewrite'\n",
    "    else:\n",
    "        return critique, 'approved'\n"
   ]
  },
  {
   "cell_type": "markdown",
   "id": "ee8d2f8b",
   "metadata": {},
   "source": [
    "## Verifier agent"
   ]
  },
  {
   "cell_type": "code",
   "execution_count": 253,
   "id": "4c86e849",
   "metadata": {},
   "outputs": [],
   "source": [
    "def verify_summary(summary_text):\n",
    "    prompt = (\n",
    "        \"Fact-check the following summary. \"\n",
    "        \"Highlight any factual inaccuracies or unsupported claims:\\n\\n\"\n",
    "        f\"{summary_text}\"\n",
    "    )\n",
    "    \n",
    "    response = client.chat.completions.create(\n",
    "        model=\"gpt-3.5-turbo\",\n",
    "        messages=[\n",
    "            {\"role\": \"user\", \"content\": prompt}\n",
    "        ]\n",
    "    )\n",
    "    \n",
    "    return response.choices[0].message.content\n"
   ]
  },
  {
   "cell_type": "code",
   "execution_count": 254,
   "id": "25b558d6",
   "metadata": {},
   "outputs": [],
   "source": [
    "def compose_final_answer(summary, critique, verification):\n",
    "    return f\"Summary:\\n{summary}\\n\\nCritique:\\n{critique}\\n\\nVerification Notes:\\n{verification}\""
   ]
  },
  {
   "cell_type": "code",
   "execution_count": 255,
   "id": "b273c689",
   "metadata": {},
   "outputs": [],
   "source": [
    "# state dictionary structure\n",
    "state = {\n",
    "    'user_query': '',\n",
    "    'arxiv_results': [],\n",
    "    'openalex_results': [],\n",
    "    'merged_results': [],\n",
    "    'summary': '',\n",
    "    'critique': '',\n",
    "    'verification': '',\n",
    "    'final_output': '',\n",
    "    'status': '',\n",
    "    'rewrite_count': 0\n",
    "}"
   ]
  },
  {
   "cell_type": "code",
   "execution_count": 256,
   "id": "93ef8077",
   "metadata": {},
   "outputs": [],
   "source": [
    "class ResearchState(TypedDict):\n",
    "    user_query: str\n",
    "    arxiv_results: List[Any]\n",
    "    openalex_results: List[Any]\n",
    "    merged_results: List[Any]\n",
    "    summary: str\n",
    "    critique: str\n",
    "    verification: str\n",
    "    final_output: str\n",
    "    status: str\n",
    "    rewrite_count: int"
   ]
  },
  {
   "cell_type": "code",
   "execution_count": 257,
   "id": "eda7591b",
   "metadata": {},
   "outputs": [],
   "source": [
    "def search_arxiv_node(state: ResearchState) -> ResearchState:\n",
    "    results = search_arxiv(state['user_query'], max_results=3)\n",
    "    state['arxiv_results'] = results\n",
    "    return state\n",
    "\n",
    "def search_openalex_node(state: ResearchState) -> ResearchState:\n",
    "    results = search_openalex(state['user_query'], max_results=3)\n",
    "    state['openalex_results'] = results\n",
    "    return state\n",
    "\n",
    "def merge_results_node(state):\n",
    "    merged = merge_results(state['arxiv_results'], state['openalex_results'])\n",
    "    state['merged_results'] = merged\n",
    "    return state\n",
    "\n",
    "def summarizer_node(state):\n",
    "    summary = summarize_papers(state['merged_results'])\n",
    "    state['summary'] = summary\n",
    "    return state\n",
    "\n",
    "def critic_node(state: ResearchState) -> ResearchState:\n",
    "    critique, status = critique_summary(state['summary'])\n",
    "    state['critique'] = critique\n",
    "    if state.get('rewrite_count', 0) >= 2:\n",
    "        state['status'] = 'approved'\n",
    "    else:\n",
    "        state['status'] = status\n",
    "    if status == 'needs_rewrite':\n",
    "        state['rewrite_count'] = state.get('rewrite_count', 0) + 1\n",
    "    return state\n",
    "\n",
    "\n",
    "def verifier_node(state):\n",
    "    verification = verify_summary(state['summary'])\n",
    "    state['verification'] = verification\n",
    "    return state\n",
    "\n",
    "def final_composer_node(state):\n",
    "    final = compose_final_answer(state['summary'], state['critique'], state['verification'])\n",
    "    state['final_output'] = final\n",
    "    return state"
   ]
  },
  {
   "cell_type": "code",
   "execution_count": 258,
   "id": "529008f0",
   "metadata": {},
   "outputs": [],
   "source": [
    "class ResearchState(TypedDict):\n",
    "    user_query: str\n",
    "    arxiv_results: List[Any]\n",
    "    openalex_results: List[Any]\n",
    "    merged_results: List[Any]\n",
    "    summary: str\n",
    "    critique: str\n",
    "    verification: str\n",
    "    final_output: str\n",
    "    status: str"
   ]
  },
  {
   "cell_type": "code",
   "execution_count": 259,
   "id": "15b5a5ec",
   "metadata": {},
   "outputs": [],
   "source": [
    "def check_critique_status(state: ResearchState) -> str:\n",
    "    return state['status']"
   ]
  },
  {
   "cell_type": "code",
   "execution_count": null,
   "id": "9df1d836",
   "metadata": {},
   "outputs": [
    {
     "name": "stdout",
     "output_type": "stream",
     "text": [
      "<langgraph.graph.state.StateGraph object at 0x000002400722AD90>\n"
     ]
    }
   ],
   "source": [
    "graph = StateGraph(ResearchState)\n",
    "\n",
    "graph.add_node('SearchArxiv', search_arxiv_node)\n",
    "graph.add_node('SearchOpenAlex', search_openalex_node)\n",
    "graph.add_node('MergeResults', merge_results_node)\n",
    "graph.add_node('SummarizerAgent', summarizer_node)\n",
    "graph.add_node('CriticAgent', critic_node)\n",
    "graph.add_node('VerifierAgent', verifier_node)\n",
    "graph.add_node('FinalComposer', final_composer_node)\n",
    "\n",
    "# Sequential Start\n",
    "graph.add_edge('__start__', 'SearchArxiv')\n",
    "graph.add_edge('SearchArxiv', 'SearchOpenAlex')\n",
    "graph.add_edge('SearchOpenAlex', 'MergeResults')\n",
    "graph.add_edge('MergeResults', 'SummarizerAgent')\n",
    "graph.add_edge('SummarizerAgent', 'CriticAgent')\n",
    "\n",
    "graph.add_conditional_edges('CriticAgent', check_critique_status, {\n",
    "    'needs_rewrite': 'SummarizerAgent',\n",
    "    'approved': 'VerifierAgent'\n",
    "})\n",
    "\n",
    "graph.add_edge('VerifierAgent', 'FinalComposer')\n",
    "\n",
    "app = graph.compile()"
   ]
  },
  {
   "cell_type": "code",
   "execution_count": 263,
   "id": "dc3de480",
   "metadata": {},
   "outputs": [
    {
     "name": "stdout",
     "output_type": "stream",
     "text": [
      "Summary:\n",
      "The research papers collectively highlight several significant opportunities and advancements in the realm of Artificial Intelligence (AI) and its collaborative applications. The emergence of generative AI techniques, such as large language models (LLMs) and text-to-image models, presents new possibilities for enhancing data storytelling by leveraging their capabilities in visual and narrative generation. Additionally, the combination of AI with wireless technologies, as seen in the 3GPP standardization progress, offers the potential to boost the efficiency of wireless transmission and support AI deployments in wireless networks.\n",
      "\n",
      "However, these advancements are accompanied by key challenges and limitations. The issue of 'Human-AI Collaboration' is critically examined, with concerns raised about the appropriateness of framing interactions with AI as collaborative endeavors. This perspective sheds light on the complexities of AI labor attribution and underscores the need for ethical considerations in AI development and deployment. Furthermore, there are concerns about the societal implications, privacy, security, biases, and misinformation associated with the widespread adoption of AI technologies like generative conversational AI tools.\n",
      "\n",
      "In terms of real-world applications and practical implications, the research touches upon a wide range of industries and domains where AI technologies could have a significant impact. Industries such as banking, healthcare, business, marketing, and education are identified as potential beneficiaries of AI-enhanced productivity and innovation. However, alongside these opportunities, there is a call for caution and further research to address the challenges posed by AI biases, privacy threats, and ethical considerations. The need for interdisciplinary collaboration and ongoing strategic renewal to build dynamic capabilities for digital transformation is also highlighted as a key aspect of navigating the evolving landscape of AI technologies.\n",
      "\n",
      "Overall, the research papers collectively underscore the transformative potential of AI technologies, while also emphasizing the importance of addressing the ethical, legal, and societal implications that come with their adoption. The discussions on generative AI tools, human-AI collaboration, and the future research agenda pave the way for informed decision-making and responsible deployment of AI technologies in various sectors.\n",
      "\n",
      "Critique:\n",
      "Overall, the summary provides a comprehensive overview of the opportunities, challenges, and real-world applications related to Artificial Intelligence (AI). The main opportunities such as generative AI techniques and AI combined with wireless technologies are well-addressed. The key challenges including 'Human-AI Collaboration', societal implications, privacy, security, biases, and misinformation are also highlighted effectively.\n",
      "\n",
      "In terms of completeness, the summary covers a wide range of industries where AI could have an impact and emphasizes the importance of interdisciplinary collaboration and ongoing strategic renewal. However, more concrete examples or case studies of AI applications in specific industries could enhance the understanding of practical implications.\n",
      "\n",
      "The accuracy of the summary is commendable, as it reflects the content of the original research without exaggeration or factual errors. The clarity and specificity of the summary are good, with clear descriptions of the opportunities and challenges associated with AI technologies.\n",
      "\n",
      "To improve the summary, adding specific examples of AI applications in banking, healthcare, business, marketing, and education would provide a more tangible understanding of real-world implications. Additionally, incorporating case studies or key findings related to AI biases, privacy threats, and ethical considerations would further enrich the discussion.\n",
      "\n",
      "Overall, the summary effectively captures the essence of the research papers but could benefit from more concrete examples and detailed insights into real-world applications and challenges associated with AI technologies.\n",
      "\n",
      "Verification Notes:\n",
      "This summary appears to be fairly accurate and well-supported. There are no clear factual inaccuracies or unsupported claims present in the text. The mention of generative AI techniques, AI's collaboration with wireless technologies, societal implications, privacy and security concerns, and the real-world applications of AI in various industries are all well-documented issues in the field of AI research. The summary also appropriately highlights the importance of ethical considerations and interdisciplinary collaboration in the development and deployment of AI technologies.\n"
     ]
    }
   ],
   "source": [
    "initial_state = {\n",
    "    'user_query': \"Latest trends in AI and human-agent collaboration\",\n",
    "    'arxiv_results': [],\n",
    "    'openalex_results': [],\n",
    "    'merged_results': [],\n",
    "    'summary': '',\n",
    "    'critique': '',\n",
    "    'verification': '',\n",
    "    'final_output': '',\n",
    "    'status': ''\n",
    "}\n",
    "\n",
    "# Execute the flow (this runs through all nodes automatically)\n",
    "result = app.invoke(initial_state)\n",
    "\n",
    "# Print the final output\n",
    "print(result['final_output'])"
   ]
  }
 ],
 "metadata": {
  "kernelspec": {
   "display_name": ".venv",
   "language": "python",
   "name": "python3"
  },
  "language_info": {
   "codemirror_mode": {
    "name": "ipython",
    "version": 3
   },
   "file_extension": ".py",
   "mimetype": "text/x-python",
   "name": "python",
   "nbconvert_exporter": "python",
   "pygments_lexer": "ipython3",
   "version": "3.11.1"
  }
 },
 "nbformat": 4,
 "nbformat_minor": 5
}
