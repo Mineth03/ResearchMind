{
 "cells": [
  {
   "cell_type": "markdown",
   "id": "4c074f68",
   "metadata": {},
   "source": [
    "## Imports and API"
   ]
  },
  {
   "cell_type": "code",
   "execution_count": 41,
   "id": "7aaff64b",
   "metadata": {},
   "outputs": [],
   "source": [
    "# Libraries\n",
    "from openai import OpenAI\n",
    "import requests\n",
    "import feedparser\n",
    "from dotenv import load_dotenv\n",
    "import os\n",
    "\n",
    "client = OpenAI()\n",
    "load_dotenv()\n",
    "os.environ[\"OPENAI_API_KEY\"] = os.getenv(\"API_KEY\")"
   ]
  },
  {
   "cell_type": "markdown",
   "id": "c7571fd9",
   "metadata": {},
   "source": [
    "## ArVix search agent"
   ]
  },
  {
   "cell_type": "code",
   "execution_count": 42,
   "id": "0f2779af",
   "metadata": {},
   "outputs": [],
   "source": [
    "def search_arxiv(query, max_results=5):\n",
    "    url = f'http://export.arxiv.org/api/query?search_query={query}&start=0&max_results={max_results}'\n",
    "    feed = feedparser.parse(requests.get(url).text)\n",
    "    \n",
    "    results = []\n",
    "    for entry in feed.entries:\n",
    "        results.append({\n",
    "            'title': entry.title,\n",
    "            'summary': entry.summary,\n",
    "            'link': entry.link\n",
    "        })\n",
    "    return results\n"
   ]
  },
  {
   "cell_type": "markdown",
   "id": "6b934320",
   "metadata": {},
   "source": [
    "## OpenAlex search agent"
   ]
  },
  {
   "cell_type": "code",
   "execution_count": 43,
   "id": "5b35cf0e",
   "metadata": {},
   "outputs": [],
   "source": [
    "def search_openalex(query, max_results=5):\n",
    "    url = f\"https://api.openalex.org/works?search={query}&per-page={max_results}\"\n",
    "    response = requests.get(url)\n",
    "    data = response.json()\n",
    "    \n",
    "    results = []\n",
    "    for item in data.get('results', []):\n",
    "        results.append({\n",
    "            'title': item.get('display_name', 'No Title'),\n",
    "            'summary': item.get('abstract_inverted_index', {}),\n",
    "            'link': item.get('id', 'No Link')\n",
    "        })\n",
    "    return results\n"
   ]
  },
  {
   "cell_type": "code",
   "execution_count": 44,
   "id": "83157985",
   "metadata": {},
   "outputs": [],
   "source": [
    "def merge_results(arxiv_results, openalex_results):\n",
    "    return arxiv_results + openalex_results"
   ]
  },
  {
   "cell_type": "markdown",
   "id": "2f6928a2",
   "metadata": {},
   "source": [
    "## Summerizing agent"
   ]
  },
  {
   "cell_type": "code",
   "execution_count": 45,
   "id": "08d9e246",
   "metadata": {},
   "outputs": [],
   "source": [
    "def summarize_papers(papers):\n",
    "    content = \"\\n\\n\".join([f\"Title: {p['title']}\\nSummary: {p['summary']}\" for p in papers])\n",
    "    prompt = f\"Summarize each paper and highlight both opportunities and challenges. Include real-world examples or case studies when possible:\\n{content}\"\n",
    "    \n",
    "    response = client.chat.completions.create(\n",
    "        model=\"gpt-3.5-turbo\",\n",
    "        messages=[\n",
    "            {\"role\": \"user\", \"content\": prompt}\n",
    "        ]\n",
    "    )\n",
    "    return response.choices[0].message.content\n"
   ]
  },
  {
   "cell_type": "code",
   "execution_count": 46,
   "id": "988725b0",
   "metadata": {},
   "outputs": [],
   "source": [
    "def summarize_papers_with_prompt(papers, custom_instruction):\n",
    "    content = \"\\n\\n\".join([f\"Title: {p['title']}\\nSummary: {p['summary']}\" for p in papers])\n",
    "    prompt = f\"{custom_instruction}\\n\\nPapers:\\n{content}\"\n",
    "    \n",
    "    response = client.chat.completions.create(\n",
    "        model=\"gpt-3.5-turbo\",\n",
    "        messages=[\n",
    "            {\"role\": \"user\", \"content\": prompt}\n",
    "        ]\n",
    "    )\n",
    "    return response.choices[0].message.content\n"
   ]
  },
  {
   "cell_type": "markdown",
   "id": "2f39ef5c",
   "metadata": {},
   "source": [
    "## Critic Agent"
   ]
  },
  {
   "cell_type": "code",
   "execution_count": 47,
   "id": "e8dee186",
   "metadata": {},
   "outputs": [],
   "source": [
    "def critique_summary(summary_text):\n",
    "    prompt = (\n",
    "        \"Review the following summary for bias, missing key points, or factual errors. \"\n",
    "        \"Suggest improvements clearly:\\n\\n\"\n",
    "        f\"{summary_text}\"\n",
    "    )\n",
    "    \n",
    "    response = client.chat.completions.create(\n",
    "        model=\"gpt-3.5-turbo\",\n",
    "        messages=[\n",
    "            {\"role\": \"user\", \"content\": prompt}\n",
    "        ]\n",
    "    )\n",
    "    \n",
    "    critique = response.choices[0].message.content\n",
    "    \n",
    "    if any(keyword in critique.lower() for keyword in [\"missing\", \"improve\", \"bias\", \"error\"]):\n",
    "        return critique, 'needs_rewrite'\n",
    "    else:\n",
    "        return critique, 'approved'\n"
   ]
  },
  {
   "cell_type": "markdown",
   "id": "ee8d2f8b",
   "metadata": {},
   "source": [
    "## Verifier agent"
   ]
  },
  {
   "cell_type": "code",
   "execution_count": 48,
   "id": "4c86e849",
   "metadata": {},
   "outputs": [],
   "source": [
    "def verify_summary(summary_text):\n",
    "    prompt = (\n",
    "        \"Fact-check the following summary. \"\n",
    "        \"Highlight any factual inaccuracies or unsupported claims:\\n\\n\"\n",
    "        f\"{summary_text}\"\n",
    "    )\n",
    "    \n",
    "    response = client.chat.completions.create(\n",
    "        model=\"gpt-3.5-turbo\",\n",
    "        messages=[\n",
    "            {\"role\": \"user\", \"content\": prompt}\n",
    "        ]\n",
    "    )\n",
    "    \n",
    "    return response.choices[0].message.content\n"
   ]
  },
  {
   "cell_type": "code",
   "execution_count": 49,
   "id": "25b558d6",
   "metadata": {},
   "outputs": [],
   "source": [
    "def compose_final_answer(summary, critique, verification):\n",
    "    return f\"Summary:\\n{summary}\\n\\nCritique:\\n{critique}\\n\\nVerification Notes:\\n{verification}\""
   ]
  },
  {
   "cell_type": "code",
   "execution_count": 50,
   "id": "2421aed3",
   "metadata": {},
   "outputs": [
    {
     "name": "stdout",
     "output_type": "stream",
     "text": [
      "Summary:\n",
      "Title: Innovating for Tomorrow: The Convergence of SE and Green AI\n",
      "- Main opportunities: Using foundation models to revolutionize software engineering processes and incorporating AI for automation.\n",
      "- Key challenges: The environmental impact of using foundation models for software development and aligning practices with sustainability values.\n",
      "- Real-world applications: Creating AI-enabled software systems with environmentally friendly practices.\n",
      "\n",
      "Title: Reflection on Data Storytelling Tools in the Generative AI Era from the Human-AI Collaboration Perspective\n",
      "- Main opportunities: Enhancing data storytelling with large-scale generative AI techniques and improving collaboration patterns.\n",
      "- Key challenges: Reflecting on progress and identifying emerging collaboration patterns.\n",
      "- Real-world applications: Human-creator + AI-assistant and AI-creator + human-reviewer collaboration patterns.\n",
      "\n",
      "Title: WordDecipher: Enhancing Digital Workspace Communication with Explainable AI for Non-native English Speakers\n",
      "- Main opportunities: Developing an explainable AI tool to enhance communication for non-native English speakers.\n",
      "- Key challenges: Helping non-native English speakers choose appropriate expressions and avoid misinterpretations.\n",
      "- Real-world applications: Enhancing digital workspace communication for non-native English speakers with an AI-assisted tool.\n",
      "\n",
      "Title: Artificial Intelligence (AI): Multidisciplinary perspectives on emerging challenges, opportunities, and agenda for research, practice and policy\n",
      "- No specific opportunities, challenges, or applications mentioned.\n",
      "\n",
      "Title: Big data in healthcare: management, analysis and future prospects\n",
      "- Main opportunities: Leveraging big data in healthcare to improve services and treatments.\n",
      "- Key challenges: Proper management and analysis of big data in healthcare.\n",
      "- Real-world applications: Revolutionizing therapies and personalized medicine with strong integration of biomedical data.\n",
      "\n",
      "Title: Towards a semantic Construction Digital Twin: Directions for future research\n",
      "- Main opportunities: Embracing digital technologies in architecture, engineering, and construction processes.\n",
      "- Key challenges: Completeness in areas of control and scalability for holistic solutions.\n",
      "- Real-world applications: Enhancing efficiency and lifecycle impacts in built assets with semantic models and a construction digital twin.\n",
      "\n",
      "Critique:\n",
      "Overall, the summaries provided cover a range of topics related to artificial intelligence, data storytelling, digital workspace communication, healthcare, and construction. However, some summaries lack key information or details that would provide a more comprehensive understanding of the subject matter. For instance, the summary titled \"Artificial Intelligence (AI): Multidisciplinary perspectives on emerging challenges, opportunities, and agenda for research, practice and policy\" does not mention specific opportunities, challenges, or applications. In order to improve this summary, it should provide specific examples of emerging challenges, opportunities, and potential applications of AI in various fields.\n",
      "\n",
      "Similarly, the summary titled \"Towards a semantic Construction Digital Twin: Directions for future research\" could be enhanced by providing more context on what a construction digital twin is and how it can benefit the architecture, engineering, and construction processes. Additionally, including examples of how semantic models can enhance efficiency and lifecycle impacts in built assets would make the summary more informative.\n",
      "\n",
      "Overall, providing more specific examples, details, and applications in each summary would improve the reader's understanding of the topics discussed and make the summaries more engaging and informative.\n",
      "\n",
      "Verification Notes:\n",
      "- The summary \"Artificial Intelligence (AI): Multidisciplinary perspectives on emerging challenges, opportunities, and agenda for research, practice and policy\" does not mention any specific opportunities, challenges, or applications related to AI, which makes it vague and lacking in details.\n",
      "- The other summaries do not contain any factual inaccuracies or unsupported claims.\n"
     ]
    }
   ],
   "source": [
    "# Example Query\n",
    "query = \"latest advancements in AI alignment\"\n",
    "\n",
    "# Step 1: Search\n",
    "arxiv_results = search_arxiv(query, max_results=3)\n",
    "openalex_results = search_openalex(query, max_results=3)\n",
    "merged_results = merge_results(arxiv_results, openalex_results)\n",
    "\n",
    "# Step 2: First Summarization\n",
    "summary = summarize_papers(merged_results)\n",
    "\n",
    "# Step 3: Critique the Summary\n",
    "critique, status = critique_summary(summary)\n",
    "\n",
    "# Step 4: If Critique Says 'Needs Rewrite' → Re-summarize with Refined Prompt\n",
    "if status == 'needs_rewrite':\n",
    "    refined_prompt = (\n",
    "        \"Summarize each research paper with focus on: \"\n",
    "        \"- Main opportunities discussed\\n\"\n",
    "        \"- Key challenges or limitations\\n\"\n",
    "        \"- Any real-world applications or case studies mentioned\\n\"\n",
    "        \"Use clear, concise language.\"\n",
    "    )\n",
    "    # You need a function that accepts a custom prompt:\n",
    "    summary = summarize_papers_with_prompt(merged_results, refined_prompt)\n",
    "    critique, status = critique_summary(summary)  # Re-critique after re-summarization\n",
    "\n",
    "# Step 5: Verification Step\n",
    "verification = verify_summary(summary)\n",
    "\n",
    "# Step 6: Final Answer\n",
    "final_output = compose_final_answer(summary, critique, verification)\n",
    "print(final_output)\n"
   ]
  }
 ],
 "metadata": {
  "kernelspec": {
   "display_name": ".venv",
   "language": "python",
   "name": "python3"
  },
  "language_info": {
   "codemirror_mode": {
    "name": "ipython",
    "version": 3
   },
   "file_extension": ".py",
   "mimetype": "text/x-python",
   "name": "python",
   "nbconvert_exporter": "python",
   "pygments_lexer": "ipython3",
   "version": "3.11.1"
  }
 },
 "nbformat": 4,
 "nbformat_minor": 5
}
